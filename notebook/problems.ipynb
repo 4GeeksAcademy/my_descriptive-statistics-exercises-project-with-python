{
    "cells": [
        {
            "cell_type": "markdown",
            "id": "ac622319",
            "metadata": {},
            "source": [
                "# Descriptive statistics problems"
            ]
        },
        {
            "cell_type": "markdown",
            "id": "5e0ab0d5",
            "metadata": {},
            "source": [
                "### Exercise 1\n",
                "\n",
                "We will use NumPy to obtain information to describe statistically.\n",
                "\n",
                "A - Generate an array of 100 elements following a normal distribution.\n",
                "B - Generate an array of 100 elements following a chi-square distribution with 3 degrees of freedom.\n",
                "C - Calculate the main metrics and statistical measures that best describe the two vectors."
            ]
        },
        {
            "cell_type": "markdown",
            "metadata": {},
            "source": [
                "A - Genera una matriz de 100 elementos siguiendo una distribución normal"
            ]
        },
        {
            "cell_type": "code",
            "execution_count": 34,
            "id": "34720ab6",
            "metadata": {},
            "outputs": [
                {
                    "data": {
                        "text/plain": [
                            "array([-1.98848968, -0.49875186,  1.17722848,  1.03204171,  1.55934216,\n",
                            "        1.85490954, -0.19329727, -0.29583661,  0.53899002,  0.46178471,\n",
                            "       -1.56652764, -0.15111123, -0.48711309,  1.08801554,  0.51700174,\n",
                            "        0.00669307, -0.93973536, -0.65655402,  0.41495569,  0.27934911,\n",
                            "       -0.56952722,  0.56295105, -0.0689415 , -0.91076167, -0.47171729,\n",
                            "        0.90971873,  1.48430228,  0.01890897,  0.72859765, -0.38418617,\n",
                            "       -0.81279988, -2.19436053,  2.04153857, -0.75734561, -2.57753617,\n",
                            "        0.27430577, -1.318347  ,  1.7838183 ,  0.20206773,  0.66572938,\n",
                            "       -0.14617373, -0.570445  ,  0.48677473,  0.25853236,  0.61125977,\n",
                            "        0.24244044, -1.2583295 ,  0.58540635, -0.92431865, -0.37450033,\n",
                            "        0.06599987, -0.54237051, -1.06172297, -0.90801621,  0.09756382,\n",
                            "       -0.64140819,  0.46834536, -0.05319681,  1.35964437,  1.29050673,\n",
                            "        1.04203503,  2.02518088, -0.51156473, -1.47583851, -0.13172719,\n",
                            "       -1.30901824,  1.07194705,  1.09697041,  0.24568744, -0.55494536,\n",
                            "        1.09846927, -0.72921096, -1.0186349 ,  0.34089876,  0.39947135,\n",
                            "        0.5150593 , -0.05659481, -0.76058862,  0.05434397,  0.73566033,\n",
                            "        0.07524477,  0.95316483,  0.8207555 ,  1.21459613, -1.31676522,\n",
                            "        0.11834154,  0.7394538 ,  2.36822945,  0.68026025,  1.61705137,\n",
                            "       -0.40709879, -1.59619338, -0.54747172,  1.24204867,  0.11805829,\n",
                            "        0.10673745, -0.02478136, -0.09059329, -1.76643071,  0.53945928])"
                        ]
                    },
                    "execution_count": 34,
                    "metadata": {},
                    "output_type": "execute_result"
                }
            ],
            "source": [
                "import numpy as np\n",
                "\n",
                "media = 0      \n",
                "desv_std = 1   \n",
                "tamaño = 100    \n",
                "\n",
                "normal_array = np.random.normal(media, desv_std, tamaño)\n",
                "\n",
                "normal_array"
            ]
        },
        {
            "cell_type": "markdown",
            "id": "984df9e6",
            "metadata": {},
            "source": [
                "B - Genere una matriz de 100 elementos siguiendo una distribución chi-cuadrado con 3 grados de libertad"
            ]
        },
        {
            "cell_type": "code",
            "execution_count": 36,
            "id": "83b7d8e0",
            "metadata": {},
            "outputs": [
                {
                    "data": {
                        "text/plain": [
                            "array([ 3.95544098,  2.98529142,  2.55309305,  2.25948412,  5.41466536,\n",
                            "        4.8235756 ,  5.82632846,  0.37243106,  1.47470319,  2.43547384,\n",
                            "        5.71487278,  0.80822763,  0.41059036,  5.35878086,  2.16227771,\n",
                            "        0.20789595,  1.81187337,  6.00967845,  2.68073035,  5.85243764,\n",
                            "        3.42771253,  2.96672043,  2.04149941,  1.44425572,  3.65931141,\n",
                            "        6.17117266,  0.14221884,  4.73505381,  6.61734475,  3.14306942,\n",
                            "        3.41876965,  3.516578  ,  2.22027092,  1.58339377,  4.43841265,\n",
                            "        2.98094012,  2.25005997,  2.80763144,  4.91308001,  1.98437786,\n",
                            "        2.48270339,  3.08510417,  4.89328066,  2.82672122,  5.53251126,\n",
                            "        8.60555838,  1.64409966,  0.33816168,  1.34021803,  8.99746619,\n",
                            "        3.75768118,  0.3256289 ,  1.49766645,  1.10553071,  2.18601768,\n",
                            "        0.70344152,  4.06174382,  5.76286173,  0.90417664,  1.43313003,\n",
                            "        4.10842467,  1.36098916,  2.91851828,  1.95135737,  3.22757891,\n",
                            "        6.88246663, 11.48361604,  3.46606082,  2.89192397, 15.0783522 ,\n",
                            "        5.59255379,  1.06353025,  0.58023188,  0.6381109 ,  9.03154078,\n",
                            "        1.53060139,  1.66451155,  2.83776777,  3.24104097,  8.60487149,\n",
                            "        2.4588196 ,  1.69212681,  0.52417086,  5.2798383 ,  2.65802205,\n",
                            "        3.27168884,  1.72724028,  3.32747324,  3.00586378,  3.88603451,\n",
                            "        6.9804116 ,  2.08675193,  3.76513254,  5.31735396,  6.39659486,\n",
                            "        1.15909698,  9.75668953,  3.209507  ,  2.46025703, 10.80914995])"
                        ]
                    },
                    "execution_count": 36,
                    "metadata": {},
                    "output_type": "execute_result"
                }
            ],
            "source": [
                "chi =np.random.chisquare(3,100)\n",
                "chi\n",
                "\n",
                "\n",
                "#plt.figure(figsize=(8, 5))\n",
                "#plt.hist(chi, bins=20, color='blue', edgecolor='black', alpha=0.7)\n",
                "#plt.title('Distribución Chi-cuadrado con 3 grados de libertad')\n",
                "#plt.xlabel('Valor')\n",
                "#plt.ylabel('Frecuencia')\n",
                "#plt.grid(True)\n",
                "#plt.show()"
            ]
        },
        {
            "cell_type": "markdown",
            "id": "f42488ce",
            "metadata": {},
            "source": []
        },
        {
            "cell_type": "markdown",
            "id": "7486abf4",
            "metadata": {},
            "source": [
                "C - Calcule las principales métricas y medidas estadísticas que mejor describen los dos vectores."
            ]
        },
        {
            "cell_type": "code",
            "execution_count": 38,
            "id": "faf0a2d2",
            "metadata": {},
            "outputs": [
                {
                    "data": {
                        "text/html": [
                            "<div>\n",
                            "<style scoped>\n",
                            "    .dataframe tbody tr th:only-of-type {\n",
                            "        vertical-align: middle;\n",
                            "    }\n",
                            "\n",
                            "    .dataframe tbody tr th {\n",
                            "        vertical-align: top;\n",
                            "    }\n",
                            "\n",
                            "    .dataframe thead th {\n",
                            "        text-align: right;\n",
                            "    }\n",
                            "</style>\n",
                            "<table border=\"1\" class=\"dataframe\">\n",
                            "  <thead>\n",
                            "    <tr style=\"text-align: right;\">\n",
                            "      <th></th>\n",
                            "      <th>Datos</th>\n",
                            "    </tr>\n",
                            "  </thead>\n",
                            "  <tbody>\n",
                            "    <tr>\n",
                            "      <th>count</th>\n",
                            "      <td>100.000000</td>\n",
                            "    </tr>\n",
                            "    <tr>\n",
                            "      <th>mean</th>\n",
                            "      <td>0.066670</td>\n",
                            "    </tr>\n",
                            "    <tr>\n",
                            "      <th>std</th>\n",
                            "      <td>0.980443</td>\n",
                            "    </tr>\n",
                            "    <tr>\n",
                            "      <th>min</th>\n",
                            "      <td>-2.577536</td>\n",
                            "    </tr>\n",
                            "    <tr>\n",
                            "      <th>25%</th>\n",
                            "      <td>-0.558591</td>\n",
                            "    </tr>\n",
                            "    <tr>\n",
                            "      <th>50%</th>\n",
                            "      <td>0.086404</td>\n",
                            "    </tr>\n",
                            "    <tr>\n",
                            "      <th>75%</th>\n",
                            "      <td>0.692345</td>\n",
                            "    </tr>\n",
                            "    <tr>\n",
                            "      <th>max</th>\n",
                            "      <td>2.368229</td>\n",
                            "    </tr>\n",
                            "  </tbody>\n",
                            "</table>\n",
                            "</div>"
                        ],
                        "text/plain": [
                            "            Datos\n",
                            "count  100.000000\n",
                            "mean     0.066670\n",
                            "std      0.980443\n",
                            "min     -2.577536\n",
                            "25%     -0.558591\n",
                            "50%      0.086404\n",
                            "75%      0.692345\n",
                            "max      2.368229"
                        ]
                    },
                    "execution_count": 38,
                    "metadata": {},
                    "output_type": "execute_result"
                }
            ],
            "source": [
                "import statistics as stats\n",
                "import pandas as pd\n",
                "\n",
                "df = pd.DataFrame(normal_array, columns=['Datos'])\n",
                "df.describe()\n",
                "\n"
            ]
        },
        {
            "cell_type": "code",
            "execution_count": 39,
            "id": "5905e1b6",
            "metadata": {},
            "outputs": [
                {
                    "data": {
                        "text/html": [
                            "<div>\n",
                            "<style scoped>\n",
                            "    .dataframe tbody tr th:only-of-type {\n",
                            "        vertical-align: middle;\n",
                            "    }\n",
                            "\n",
                            "    .dataframe tbody tr th {\n",
                            "        vertical-align: top;\n",
                            "    }\n",
                            "\n",
                            "    .dataframe thead th {\n",
                            "        text-align: right;\n",
                            "    }\n",
                            "</style>\n",
                            "<table border=\"1\" class=\"dataframe\">\n",
                            "  <thead>\n",
                            "    <tr style=\"text-align: right;\">\n",
                            "      <th></th>\n",
                            "      <th>Datos</th>\n",
                            "    </tr>\n",
                            "  </thead>\n",
                            "  <tbody>\n",
                            "    <tr>\n",
                            "      <th>count</th>\n",
                            "      <td>100.000000</td>\n",
                            "    </tr>\n",
                            "    <tr>\n",
                            "      <th>mean</th>\n",
                            "      <td>3.569897</td>\n",
                            "    </tr>\n",
                            "    <tr>\n",
                            "      <th>std</th>\n",
                            "      <td>2.684137</td>\n",
                            "    </tr>\n",
                            "    <tr>\n",
                            "      <th>min</th>\n",
                            "      <td>0.142219</td>\n",
                            "    </tr>\n",
                            "    <tr>\n",
                            "      <th>25%</th>\n",
                            "      <td>1.685223</td>\n",
                            "    </tr>\n",
                            "    <tr>\n",
                            "      <th>50%</th>\n",
                            "      <td>2.973830</td>\n",
                            "    </tr>\n",
                            "    <tr>\n",
                            "      <th>75%</th>\n",
                            "      <td>4.898230</td>\n",
                            "    </tr>\n",
                            "    <tr>\n",
                            "      <th>max</th>\n",
                            "      <td>15.078352</td>\n",
                            "    </tr>\n",
                            "  </tbody>\n",
                            "</table>\n",
                            "</div>"
                        ],
                        "text/plain": [
                            "            Datos\n",
                            "count  100.000000\n",
                            "mean     3.569897\n",
                            "std      2.684137\n",
                            "min      0.142219\n",
                            "25%      1.685223\n",
                            "50%      2.973830\n",
                            "75%      4.898230\n",
                            "max     15.078352"
                        ]
                    },
                    "execution_count": 39,
                    "metadata": {},
                    "output_type": "execute_result"
                }
            ],
            "source": [
                "df2 = pd.DataFrame(chi, columns=['Datos'])\n",
                "df2.describe()"
            ]
        },
        {
            "cell_type": "markdown",
            "id": "46c70c3d",
            "metadata": {},
            "source": [
                "### Exercise 2\n",
                "\n",
                "Write a Python program to calculate the standard deviation of the following data:\n",
                "\n",
                "\n",
                "data = [4, 2, 5, 8, 6]\n"
            ]
        },
        {
            "cell_type": "markdown",
            "id": "8fa271a7",
            "metadata": {},
            "source": []
        },
        {
            "cell_type": "markdown",
            "id": "b35190c1",
            "metadata": {},
            "source": [
                "Escriba un programa Python para calcular la desviación estándar de los siguientes datos:"
            ]
        },
        {
            "cell_type": "code",
            "execution_count": 40,
            "id": "2a26f2e0",
            "metadata": {},
            "outputs": [
                {
                    "name": "stdout",
                    "output_type": "stream",
                    "text": [
                        "La desviación estándar es: 2.23606797749979\n"
                    ]
                }
            ],
            "source": [
                "data = [4, 2, 5, 8, 6]\n",
                "\n",
                "def calcular_desviacion_estandar(data):\n",
                "    n = len(data)\n",
                "    if n < 2:\n",
                "        raise ValueError(\"La lista debe contener al menos dos elementos.\")\n",
                "    \n",
                "    media = sum(data) / n\n",
                "    varianza = sum((xi - media) ** 2 for xi in data) / (n - 1)\n",
                "    desviacion_estandar = varianza ** 0.5\n",
                "    \n",
                "    return desviacion_estandar\n",
                "\n",
                "# Cálculo\n",
                "desviacion = calcular_desviacion_estandar(data)\n",
                "print(\"La desviación estándar es:\", desviacion)\n"
            ]
        }
    ],
    "metadata": {
        "kernelspec": {
            "display_name": "Python 3",
            "language": "python",
            "name": "python3"
        },
        "language_info": {
            "codemirror_mode": {
                "name": "ipython",
                "version": 3
            },
            "file_extension": ".py",
            "mimetype": "text/x-python",
            "name": "python",
            "nbconvert_exporter": "python",
            "pygments_lexer": "ipython3",
            "version": "3.11.4"
        }
    },
    "nbformat": 4,
    "nbformat_minor": 5
}
