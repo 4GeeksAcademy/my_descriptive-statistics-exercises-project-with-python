{
    "cells": [
        {
            "cell_type": "markdown",
            "id": "ac622319",
            "metadata": {},
            "source": [
                "# Descriptive statistics problems"
            ]
        },
        {
            "cell_type": "markdown",
            "id": "5e0ab0d5",
            "metadata": {},
            "source": [
                "### Exercise 1\n",
                "\n",
                "We will use NumPy to obtain information to describe statistically.\n",
                "\n",
                "- A - Generate an array of 100 elements following a normal distribution.\n",
                "- B - Generate an array of 100 elements following a chi-square distribution with 3 degrees of freedom.\n",
                "- C -  the main mCalculateetrics and statistical measures that best describe the two vectors."
            ]
        },
        {
            "cell_type": "markdown",
            "metadata": {},
            "source": [
                "A - Genera una matriz de 100 elementos siguiendo una distribución normal"
            ]
        },
        {
            "cell_type": "code",
            "execution_count": 4,
            "id": "34720ab6",
            "metadata": {},
            "outputs": [
                {
                    "data": {
                        "text/plain": [
                            "array([ 0.79824918, -0.85846197,  0.53616113, -0.59246295,  0.03335495,\n",
                            "        0.50297285,  0.41864072, -1.16811688,  0.23655022, -0.64059255,\n",
                            "       -1.34043926,  1.6685546 ,  0.49477383, -1.76831474, -0.7971672 ,\n",
                            "        0.00670305,  1.52884322, -0.56853528,  0.52263961, -1.11188346,\n",
                            "        0.60036316,  3.1366551 , -0.51280082, -1.00643893,  0.32846281,\n",
                            "       -0.14671024, -1.74578938,  0.75793666, -0.52692902,  0.80168048,\n",
                            "       -0.09408284,  1.02613788, -0.57283585, -0.88315825,  1.27774082,\n",
                            "       -0.77889383,  1.9594617 ,  0.76719791,  0.03377857, -0.58948477,\n",
                            "       -0.92407689, -0.25972004, -1.57323376,  0.77659188,  0.39944047,\n",
                            "       -2.82058638, -0.25352039, -0.88064745,  0.68411809,  0.40127584,\n",
                            "        1.02717506, -0.52533008, -0.42086471,  0.34964865,  0.33818847,\n",
                            "        2.43078546, -1.28984344,  0.92093244,  1.19358292, -2.43653276,\n",
                            "        0.07301827, -1.10375599, -0.90952882,  2.00147205,  0.81810613,\n",
                            "       -0.58026432, -0.36021784,  1.25534403,  0.56268404, -1.36673079,\n",
                            "        0.31455319, -0.46750106,  0.08601397,  0.85823369,  0.1092483 ,\n",
                            "       -0.7635804 ,  1.25855514, -1.51279644, -0.18933138,  0.93511349,\n",
                            "       -0.89067228, -0.72595662,  0.21114555, -0.92758509, -0.41843594,\n",
                            "        1.84578287,  0.16343324, -0.38647033,  0.93317971, -0.75837812,\n",
                            "       -1.18712328,  1.35595129, -0.26018163,  1.9615747 ,  1.69075096,\n",
                            "        0.24020982,  0.94251256, -0.74390408, -0.60072784, -1.09648057])"
                        ]
                    },
                    "execution_count": 4,
                    "metadata": {},
                    "output_type": "execute_result"
                }
            ],
            "source": [
                "import numpy as np\n",
                "\n",
                "media = 0      \n",
                "desv_std = 1   \n",
                "tamaño = 100    \n",
                "\n",
                "normal_array = np.random.normal(media, desv_std, tamaño)\n",
                "\n",
                "normal_array"
            ]
        },
        {
            "cell_type": "markdown",
            "id": "984df9e6",
            "metadata": {},
            "source": [
                "B - Genere una matriz de 100 elementos siguiendo una distribución chi-cuadrado con 3 grados de libertad"
            ]
        },
        {
            "cell_type": "code",
            "execution_count": 8,
            "id": "31dcbb71",
            "metadata": {},
            "outputs": [
                {
                    "data": {
                        "image/png": "[encoded data removed]",
                        "text/plain": [
                            "<Figure size 640x480 with 1 Axes>"
                        ]
                    },
                    "metadata": {},
                    "output_type": "display_data"
                }
            ],
            "source": [
                "import numpy as np\n",
                "import matplotlib.pyplot as plt\n",
                "\n",
                "mu=5\n",
                "sigma=0.1\n",
                "\n",
                "s = np.random.normal(mu, sigma, 100)\n",
                "\n",
                "\n",
                "count, bins, ignored = plt.hist(s, 30, density=True)\n",
                "plt.plot(bins, 1/(sigma * np.sqrt(2 * np.pi)) *\n",
                "               np.exp( - (bins - mu)**2 / (2 * sigma**2) ),\n",
                "         linewidth=2, color='r')\n",
                "plt.show()"
            ]
        },
        {
            "cell_type": "code",
            "execution_count": 5,
            "id": "3daa69f7",
            "metadata": {},
            "outputs": [
                {
                    "data": {
                        "text/html": [
                            "<div>\n",
                            "<style scoped>\n",
                            "    .dataframe tbody tr th:only-of-type {\n",
                            "        vertical-align: middle;\n",
                            "    }\n",
                            "\n",
                            "    .dataframe tbody tr th {\n",
                            "        vertical-align: top;\n",
                            "    }\n",
                            "\n",
                            "    .dataframe thead th {\n",
                            "        text-align: right;\n",
                            "    }\n",
                            "</style>\n",
                            "<table border=\"1\" class=\"dataframe\">\n",
                            "  <thead>\n",
                            "    <tr style=\"text-align: right;\">\n",
                            "      <th></th>\n",
                            "      <th>Chi-Squared</th>\n",
                            "    </tr>\n",
                            "  </thead>\n",
                            "  <tbody>\n",
                            "    <tr>\n",
                            "      <th>0</th>\n",
                            "      <td>2.163184</td>\n",
                            "    </tr>\n",
                            "    <tr>\n",
                            "      <th>1</th>\n",
                            "      <td>2.226299</td>\n",
                            "    </tr>\n",
                            "    <tr>\n",
                            "      <th>2</th>\n",
                            "      <td>6.877444</td>\n",
                            "    </tr>\n",
                            "    <tr>\n",
                            "      <th>3</th>\n",
                            "      <td>1.665345</td>\n",
                            "    </tr>\n",
                            "    <tr>\n",
                            "      <th>4</th>\n",
                            "      <td>0.270607</td>\n",
                            "    </tr>\n",
                            "    <tr>\n",
                            "      <th>...</th>\n",
                            "      <td>...</td>\n",
                            "    </tr>\n",
                            "    <tr>\n",
                            "      <th>95</th>\n",
                            "      <td>1.138937</td>\n",
                            "    </tr>\n",
                            "    <tr>\n",
                            "      <th>96</th>\n",
                            "      <td>2.425054</td>\n",
                            "    </tr>\n",
                            "    <tr>\n",
                            "      <th>97</th>\n",
                            "      <td>0.226705</td>\n",
                            "    </tr>\n",
                            "    <tr>\n",
                            "      <th>98</th>\n",
                            "      <td>0.474027</td>\n",
                            "    </tr>\n",
                            "    <tr>\n",
                            "      <th>99</th>\n",
                            "      <td>2.693997</td>\n",
                            "    </tr>\n",
                            "  </tbody>\n",
                            "</table>\n",
                            "<p>100 rows × 1 columns</p>\n",
                            "</div>"
                        ],
                        "text/plain": [
                            "    Chi-Squared\n",
                            "0      2.163184\n",
                            "1      2.226299\n",
                            "2      6.877444\n",
                            "3      1.665345\n",
                            "4      0.270607\n",
                            "..          ...\n",
                            "95     1.138937\n",
                            "96     2.425054\n",
                            "97     0.226705\n",
                            "98     0.474027\n",
                            "99     2.693997\n",
                            "\n",
                            "[100 rows x 1 columns]"
                        ]
                    },
                    "execution_count": 5,
                    "metadata": {},
                    "output_type": "execute_result"
                }
            ],
            "source": [
                "import pandas as pd\n",
                "\n",
                "chi_squared_matrix = np.random.chisquare(df=3, size=100)\n",
                "\n",
                "chi_squared_df = pd.DataFrame(chi_squared_matrix, columns=['Chi-Squared'])\n",
                "\n",
                "chi_squared_df\n"
            ]
        },
        {
            "cell_type": "code",
            "execution_count": 10,
            "id": "83b7d8e0",
            "metadata": {},
            "outputs": [
                {
                    "data": {
                        "image/png": "[encoded data removed]",
                        "text/plain": [
                            "<Figure size 800x500 with 1 Axes>"
                        ]
                    },
                    "metadata": {},
                    "output_type": "display_data"
                }
            ],
            "source": [
                "chi =np.random.chisquare(3,100)\n",
                "\n",
                "plt.figure(figsize=(8, 5))\n",
                "plt.hist(chi, bins=20, color='blue', edgecolor='black', alpha=0.7)\n",
                "plt.title('Distribución Chi-cuadrado con 3 grados de libertad')\n",
                "plt.xlabel('Valor')\n",
                "plt.ylabel('Frecuencia')\n",
                "plt.grid(True)\n",
                "plt.show()"
            ]
        },
        {
            "cell_type": "markdown",
            "id": "f42488ce",
            "metadata": {},
            "source": []
        },
        {
            "cell_type": "markdown",
            "id": "7486abf4",
            "metadata": {},
            "source": [
                "C - Calcule las principales métricas y medidas estadísticas que mejor describen los dos vectores."
            ]
        },
        {
            "cell_type": "code",
            "execution_count": 12,
            "id": "f6272309",
            "metadata": {},
            "outputs": [
                {
                    "ename": "IndexError",
                    "evalue": "invalid index to scalar variable.",
                    "output_type": "error",
                    "traceback": [
                        "\u001b[0;31m---------------------------------------------------------------------------\u001b[0m",
                        "\u001b[0;31mIndexError\u001b[0m                                Traceback (most recent call last)",
                        "Cell \u001b[0;32mIn[12], line 15\u001b[0m\n\u001b[1;32m     12\u001b[0m std_dev_s \u001b[38;5;241m=\u001b[39m np\u001b[38;5;241m.\u001b[39mstd(s)\n\u001b[1;32m     14\u001b[0m \u001b[38;5;66;03m# Para la moda usamos scipy.stats\u001b[39;00m\n\u001b[0;32m---> 15\u001b[0m mode_s \u001b[38;5;241m=\u001b[39m \u001b[43mstats\u001b[49m\u001b[38;5;241;43m.\u001b[39;49m\u001b[43mmode\u001b[49m\u001b[43m(\u001b[49m\u001b[43ms\u001b[49m\u001b[43m)\u001b[49m\u001b[43m[\u001b[49m\u001b[38;5;241;43m0\u001b[39;49m\u001b[43m]\u001b[49m\u001b[43m[\u001b[49m\u001b[38;5;241;43m0\u001b[39;49m\u001b[43m]\u001b[49m\n\u001b[1;32m     17\u001b[0m \u001b[38;5;66;03m# Organizar los resultados en un diccionario\u001b[39;00m\n\u001b[1;32m     18\u001b[0m stats_normal \u001b[38;5;241m=\u001b[39m {\n\u001b[1;32m     19\u001b[0m     \u001b[38;5;124m\"\u001b[39m\u001b[38;5;124mMedia\u001b[39m\u001b[38;5;124m\"\u001b[39m: mean_s,\n\u001b[1;32m     20\u001b[0m     \u001b[38;5;124m\"\u001b[39m\u001b[38;5;124mMediana\u001b[39m\u001b[38;5;124m\"\u001b[39m: median_s,\n\u001b[1;32m     21\u001b[0m     \u001b[38;5;124m\"\u001b[39m\u001b[38;5;124mModa\u001b[39m\u001b[38;5;124m\"\u001b[39m: mode_s,\n\u001b[1;32m     22\u001b[0m     \u001b[38;5;124m\"\u001b[39m\u001b[38;5;124mDesviación Estándar\u001b[39m\u001b[38;5;124m\"\u001b[39m: std_dev_s\n\u001b[1;32m     23\u001b[0m }\n",
                        "\u001b[0;31mIndexError\u001b[0m: invalid index to scalar variable."
                    ]
                }
            ],
            "source": [
                "import numpy as np\n",
                "from scipy import stats\n",
                "import pandas as pd\n",
                "\n",
                "# Definir los parámetros para la distribución normal\n",
                "mu, sigma = 0, 1  # Media 0, Desviación estándar 1\n",
                "s = np.random.normal(mu, sigma, 100)\n",
                "\n",
                "# Calcular la media, mediana, moda y desviación estándar\n",
                "mean_s = np.mean(s)\n",
                "median_s = np.median(s)\n",
                "std_dev_s = np.std(s)\n",
                "\n",
                "# Para la moda usamos scipy.stats\n",
                "mode_s = stats.mode(s)[0][0]\n",
                "\n",
                "# Organizar los resultados en un diccionario\n",
                "stats_normal = {\n",
                "    \"Media\": mean_s,\n",
                "    \"Mediana\": median_s,\n",
                "    \"Moda\": mode_s,\n",
                "    \"Desviación Estándar\": std_dev_s\n",
                "}\n",
                "\n",
                "# Crear un DataFrame para visualizar\n",
                "df_stats_normal = pd.DataFrame(stats_normal, index=[\"Valores\"]).T\n",
                "\n",
                "# Mostrar el DataFrame\n",
                "print(df_stats_normal)\n"
            ]
        },
        {
            "cell_type": "code",
            "execution_count": 23,
            "id": "faf0a2d2",
            "metadata": {},
            "outputs": [
                {
                    "data": {
                        "text/html": [
                            "<div>\n",
                            "<style scoped>\n",
                            "    .dataframe tbody tr th:only-of-type {\n",
                            "        vertical-align: middle;\n",
                            "    }\n",
                            "\n",
                            "    .dataframe tbody tr th {\n",
                            "        vertical-align: top;\n",
                            "    }\n",
                            "\n",
                            "    .dataframe thead th {\n",
                            "        text-align: right;\n",
                            "    }\n",
                            "</style>\n",
                            "<table border=\"1\" class=\"dataframe\">\n",
                            "  <thead>\n",
                            "    <tr style=\"text-align: right;\">\n",
                            "      <th></th>\n",
                            "      <th>Datos</th>\n",
                            "    </tr>\n",
                            "  </thead>\n",
                            "  <tbody>\n",
                            "    <tr>\n",
                            "      <th>count</th>\n",
                            "      <td>100.000000</td>\n",
                            "    </tr>\n",
                            "    <tr>\n",
                            "      <th>mean</th>\n",
                            "      <td>-0.182803</td>\n",
                            "    </tr>\n",
                            "    <tr>\n",
                            "      <th>std</th>\n",
                            "      <td>1.120132</td>\n",
                            "    </tr>\n",
                            "    <tr>\n",
                            "      <th>min</th>\n",
                            "      <td>-2.524740</td>\n",
                            "    </tr>\n",
                            "    <tr>\n",
                            "      <th>25%</th>\n",
                            "      <td>-1.005013</td>\n",
                            "    </tr>\n",
                            "    <tr>\n",
                            "      <th>50%</th>\n",
                            "      <td>-0.332188</td>\n",
                            "    </tr>\n",
                            "    <tr>\n",
                            "      <th>75%</th>\n",
                            "      <td>0.690103</td>\n",
                            "    </tr>\n",
                            "    <tr>\n",
                            "      <th>max</th>\n",
                            "      <td>2.534485</td>\n",
                            "    </tr>\n",
                            "  </tbody>\n",
                            "</table>\n",
                            "</div>"
                        ],
                        "text/plain": [
                            "            Datos\n",
                            "count  100.000000\n",
                            "mean    -0.182803\n",
                            "std      1.120132\n",
                            "min     -2.524740\n",
                            "25%     -1.005013\n",
                            "50%     -0.332188\n",
                            "75%      0.690103\n",
                            "max      2.534485"
                        ]
                    },
                    "execution_count": 23,
                    "metadata": {},
                    "output_type": "execute_result"
                }
            ],
            "source": [
                "import statistics as stats\n",
                "from scipy.stats import skew\n",
                "from scipy.stats import kurtosis\n",
                "import pandas as pd\n",
                "\n",
                "#mode = stats.mode(s)\n",
                "#mode\n",
                "\n",
                "#media = stats.mean(s)\n",
                "#media\n",
                "\n",
                "#mediana = stats.median(s)\n",
                "#mediana\n",
                "\n",
                "\n",
                "df = pd.DataFrame(s, columns=['Datos'])\n",
                "df.describe()\n",
                "\n"
            ]
        },
        {
            "cell_type": "code",
            "execution_count": 24,
            "id": "5905e1b6",
            "metadata": {},
            "outputs": [
                {
                    "data": {
                        "text/html": [
                            "<div>\n",
                            "<style scoped>\n",
                            "    .dataframe tbody tr th:only-of-type {\n",
                            "        vertical-align: middle;\n",
                            "    }\n",
                            "\n",
                            "    .dataframe tbody tr th {\n",
                            "        vertical-align: top;\n",
                            "    }\n",
                            "\n",
                            "    .dataframe thead th {\n",
                            "        text-align: right;\n",
                            "    }\n",
                            "</style>\n",
                            "<table border=\"1\" class=\"dataframe\">\n",
                            "  <thead>\n",
                            "    <tr style=\"text-align: right;\">\n",
                            "      <th></th>\n",
                            "      <th>Datos</th>\n",
                            "    </tr>\n",
                            "  </thead>\n",
                            "  <tbody>\n",
                            "    <tr>\n",
                            "      <th>count</th>\n",
                            "      <td>100.000000</td>\n",
                            "    </tr>\n",
                            "    <tr>\n",
                            "      <th>mean</th>\n",
                            "      <td>2.954945</td>\n",
                            "    </tr>\n",
                            "    <tr>\n",
                            "      <th>std</th>\n",
                            "      <td>2.154735</td>\n",
                            "    </tr>\n",
                            "    <tr>\n",
                            "      <th>min</th>\n",
                            "      <td>0.029408</td>\n",
                            "    </tr>\n",
                            "    <tr>\n",
                            "      <th>25%</th>\n",
                            "      <td>1.187645</td>\n",
                            "    </tr>\n",
                            "    <tr>\n",
                            "      <th>50%</th>\n",
                            "      <td>2.701441</td>\n",
                            "    </tr>\n",
                            "    <tr>\n",
                            "      <th>75%</th>\n",
                            "      <td>3.974410</td>\n",
                            "    </tr>\n",
                            "    <tr>\n",
                            "      <th>max</th>\n",
                            "      <td>10.606854</td>\n",
                            "    </tr>\n",
                            "  </tbody>\n",
                            "</table>\n",
                            "</div>"
                        ],
                        "text/plain": [
                            "            Datos\n",
                            "count  100.000000\n",
                            "mean     2.954945\n",
                            "std      2.154735\n",
                            "min      0.029408\n",
                            "25%      1.187645\n",
                            "50%      2.701441\n",
                            "75%      3.974410\n",
                            "max     10.606854"
                        ]
                    },
                    "execution_count": 24,
                    "metadata": {},
                    "output_type": "execute_result"
                }
            ],
            "source": [
                "df2 = pd.DataFrame(chi, columns=['Datos'])\n",
                "df2.describe()"
            ]
        },
        {
            "cell_type": "markdown",
            "id": "46c70c3d",
            "metadata": {},
            "source": [
                "### Exercise 2\n",
                "\n",
                "Write a Python program to calculate the standard deviation of the following data:\n",
                "\n",
                "\n",
                "data = [4, 2, 5, 8, 6]\n"
            ]
        },
        {
            "cell_type": "markdown",
            "id": "8fa271a7",
            "metadata": {},
            "source": []
        },
        {
            "cell_type": "code",
            "execution_count": 30,
            "id": "d590308e",
            "metadata": {},
            "outputs": [],
            "source": [
                "data = [4, 2, 5, 8, 6]\n",
                "d = pd.array(data)\n",
                "d\n",
                "\n",
                "mean =d.mean()\n",
                "mean\n",
                "\n",
                "def des_est (array):\n",
                "\n",
                "\n",
                "    for elemento in array:\n",
                "        d = pd.array()\n",
                "    return d"
            ]
        }
    ],
    "metadata": {
        "kernelspec": {
            "display_name": "Python 3",
            "language": "python",
            "name": "python3"
        },
        "language_info": {
            "codemirror_mode": {
                "name": "ipython",
                "version": 3
            },
            "file_extension": ".py",
            "mimetype": "text/x-python",
            "name": "python",
            "nbconvert_exporter": "python",
            "pygments_lexer": "ipython3",
            "version": "3.11.4"
        }
    },
    "nbformat": 4,
    "nbformat_minor": 5
}
