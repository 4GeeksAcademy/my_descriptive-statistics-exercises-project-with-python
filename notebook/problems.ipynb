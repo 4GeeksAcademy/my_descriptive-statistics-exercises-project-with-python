{
    "cells": [
        {
            "cell_type": "markdown",
            "id": "ac622319",
            "metadata": {},
            "source": [
                "# Descriptive statistics problems"
            ]
        },
        {
            "cell_type": "markdown",
            "id": "5e0ab0d5",
            "metadata": {},
            "source": [
                "### Exercise 1\n",
                "\n",
                "We will use NumPy to obtain information to describe statistically.\n",
                "\n",
                "A - Generate an array of 100 elements following a normal distribution.\n",
                "B - Generate an array of 100 elements following a chi-square distribution with 3 degrees of freedom.\n",
                "C - Calculate the main metrics and statistical measures that best describe the two vectors."
            ]
        },
        {
            "cell_type": "markdown",
            "metadata": {},
            "source": [
                "A - Genera una matriz de 100 elementos siguiendo una distribución normal"
            ]
        },
        {
            "cell_type": "code",
            "execution_count": 9,
            "id": "34720ab6",
            "metadata": {},
            "outputs": [
                {
                    "data": {
                        "text/plain": [
                            "array([-0.23877825, -1.34628307, -0.07909036, -0.88158345, -0.0429143 ,\n",
                            "        1.47840827, -2.42359569,  0.13735813,  0.12304112, -0.95078714,\n",
                            "       -0.86072176, -0.20764294, -1.70020189,  0.85893993,  1.01271064,\n",
                            "        0.82618678,  0.1443756 ,  0.48807   , -0.71288596, -0.73587432,\n",
                            "        0.88520841, -0.14287969, -0.15139292,  1.25961298, -1.01517581,\n",
                            "        0.23570023,  0.18016425, -1.48073034, -0.95745373, -0.38974332,\n",
                            "       -0.48729624,  1.16373349,  0.63786248, -0.65278816, -0.44729269,\n",
                            "        1.3274739 ,  1.84915963, -1.3778491 ,  0.10009518, -0.51440166,\n",
                            "        0.81675768, -0.55864136, -0.48302462, -0.19158398, -0.29554308,\n",
                            "        0.13120648,  0.66680321,  0.78770665,  2.70474383, -0.607101  ,\n",
                            "        0.44029185,  0.33856024,  0.88763452, -0.88029312, -0.2288633 ,\n",
                            "        0.21884808, -0.08307711, -0.37369934, -0.7458408 ,  0.17074806,\n",
                            "        1.22466434, -1.3607471 ,  1.59404811, -0.76518157,  0.77479511,\n",
                            "        0.02358199, -0.98421192, -0.112459  , -0.7436052 ,  0.76594876,\n",
                            "        0.83492976,  1.07033141, -1.52604524, -1.10824044, -0.22332878,\n",
                            "       -0.57736351,  0.63599162,  0.03890605, -1.06092936, -1.0343718 ,\n",
                            "        0.57362989, -0.37803006, -0.15284238, -0.50656527,  1.34004456,\n",
                            "       -0.38263739,  1.24664796, -1.6676797 ,  0.52856978, -0.08363293,\n",
                            "       -0.85555606, -0.38989409, -0.83737281,  1.28998009, -0.85561711,\n",
                            "       -0.09915932,  1.03592628, -0.34202167,  0.19736022, -0.97635296])"
                        ]
                    },
                    "execution_count": 9,
                    "metadata": {},
                    "output_type": "execute_result"
                }
            ],
            "source": [
                "import numpy as np\n",
                "\n",
                "media = 0      \n",
                "desv_std = 1   \n",
                "tamaño = 100    \n",
                "\n",
                "normal_array = np.random.normal(media, desv_std, tamaño)\n",
                "\n",
                "normal_array"
            ]
        },
        {
            "cell_type": "markdown",
            "id": "984df9e6",
            "metadata": {},
            "source": [
                "B - Genere una matriz de 100 elementos siguiendo una distribución chi-cuadrado con 3 grados de libertad"
            ]
        },
        {
            "cell_type": "code",
            "execution_count": 13,
            "id": "83b7d8e0",
            "metadata": {},
            "outputs": [
                {
                    "data": {
                        "image/png": "[encoded data removed]",
                        "text/plain": [
                            "<Figure size 800x500 with 1 Axes>"
                        ]
                    },
                    "metadata": {},
                    "output_type": "display_data"
                }
            ],
            "source": [
                "import matplotlib.pyplot as plt\n",
                "chi =np.random.chisquare(3,100)\n",
                "\n",
                "\n",
                "plt.figure(figsize=(8, 5))\n",
                "plt.hist(chi, bins=20, color='blue', edgecolor='black', alpha=0.7)\n",
                "plt.title('Distribución Chi-cuadrado con 3 grados de libertad')\n",
                "plt.xlabel('Valor')\n",
                "plt.ylabel('Frecuencia')\n",
                "plt.grid(True)\n",
                "plt.show()"
            ]
        },
        {
            "cell_type": "markdown",
            "id": "f42488ce",
            "metadata": {},
            "source": []
        },
        {
            "cell_type": "markdown",
            "id": "7486abf4",
            "metadata": {},
            "source": [
                "C - Calcule las principales métricas y medidas estadísticas que mejor describen los dos vectores."
            ]
        },
        {
            "cell_type": "code",
            "execution_count": 16,
            "id": "faf0a2d2",
            "metadata": {},
            "outputs": [
                {
                    "data": {
                        "text/html": [
                            "<div>\n",
                            "<style scoped>\n",
                            "    .dataframe tbody tr th:only-of-type {\n",
                            "        vertical-align: middle;\n",
                            "    }\n",
                            "\n",
                            "    .dataframe tbody tr th {\n",
                            "        vertical-align: top;\n",
                            "    }\n",
                            "\n",
                            "    .dataframe thead th {\n",
                            "        text-align: right;\n",
                            "    }\n",
                            "</style>\n",
                            "<table border=\"1\" class=\"dataframe\">\n",
                            "  <thead>\n",
                            "    <tr style=\"text-align: right;\">\n",
                            "      <th></th>\n",
                            "      <th>Datos</th>\n",
                            "    </tr>\n",
                            "  </thead>\n",
                            "  <tbody>\n",
                            "    <tr>\n",
                            "      <th>count</th>\n",
                            "      <td>100.000000</td>\n",
                            "    </tr>\n",
                            "    <tr>\n",
                            "      <th>mean</th>\n",
                            "      <td>-0.062221</td>\n",
                            "    </tr>\n",
                            "    <tr>\n",
                            "      <th>std</th>\n",
                            "      <td>0.895259</td>\n",
                            "    </tr>\n",
                            "    <tr>\n",
                            "      <th>min</th>\n",
                            "      <td>-2.423596</td>\n",
                            "    </tr>\n",
                            "    <tr>\n",
                            "      <th>25%</th>\n",
                            "      <td>-0.737807</td>\n",
                            "    </tr>\n",
                            "    <tr>\n",
                            "      <th>50%</th>\n",
                            "      <td>-0.147136</td>\n",
                            "    </tr>\n",
                            "    <tr>\n",
                            "      <th>75%</th>\n",
                            "      <td>0.636459</td>\n",
                            "    </tr>\n",
                            "    <tr>\n",
                            "      <th>max</th>\n",
                            "      <td>2.704744</td>\n",
                            "    </tr>\n",
                            "  </tbody>\n",
                            "</table>\n",
                            "</div>"
                        ],
                        "text/plain": [
                            "            Datos\n",
                            "count  100.000000\n",
                            "mean    -0.062221\n",
                            "std      0.895259\n",
                            "min     -2.423596\n",
                            "25%     -0.737807\n",
                            "50%     -0.147136\n",
                            "75%      0.636459\n",
                            "max      2.704744"
                        ]
                    },
                    "execution_count": 16,
                    "metadata": {},
                    "output_type": "execute_result"
                }
            ],
            "source": [
                "import statistics as stats\n",
                "from scipy.stats import skew\n",
                "from scipy.stats import kurtosis\n",
                "import pandas as pd\n",
                "\n",
                "#mode = stats.mode(normal_array)\n",
                "#mode\n",
                "\n",
                "#media = stats.mean(normal_array)\n",
                "#media\n",
                "\n",
                "#mediana = stats.median(snormal_array)\n",
                "#mediana\n",
                "\n",
                "\n",
                "df = pd.DataFrame(normal_array, columns=['Datos'])\n",
                "df.describe()\n",
                "\n"
            ]
        },
        {
            "cell_type": "code",
            "execution_count": 17,
            "id": "5905e1b6",
            "metadata": {},
            "outputs": [
                {
                    "data": {
                        "text/html": [
                            "<div>\n",
                            "<style scoped>\n",
                            "    .dataframe tbody tr th:only-of-type {\n",
                            "        vertical-align: middle;\n",
                            "    }\n",
                            "\n",
                            "    .dataframe tbody tr th {\n",
                            "        vertical-align: top;\n",
                            "    }\n",
                            "\n",
                            "    .dataframe thead th {\n",
                            "        text-align: right;\n",
                            "    }\n",
                            "</style>\n",
                            "<table border=\"1\" class=\"dataframe\">\n",
                            "  <thead>\n",
                            "    <tr style=\"text-align: right;\">\n",
                            "      <th></th>\n",
                            "      <th>Datos</th>\n",
                            "    </tr>\n",
                            "  </thead>\n",
                            "  <tbody>\n",
                            "    <tr>\n",
                            "      <th>count</th>\n",
                            "      <td>100.000000</td>\n",
                            "    </tr>\n",
                            "    <tr>\n",
                            "      <th>mean</th>\n",
                            "      <td>3.251026</td>\n",
                            "    </tr>\n",
                            "    <tr>\n",
                            "      <th>std</th>\n",
                            "      <td>2.826919</td>\n",
                            "    </tr>\n",
                            "    <tr>\n",
                            "      <th>min</th>\n",
                            "      <td>0.030142</td>\n",
                            "    </tr>\n",
                            "    <tr>\n",
                            "      <th>25%</th>\n",
                            "      <td>1.015405</td>\n",
                            "    </tr>\n",
                            "    <tr>\n",
                            "      <th>50%</th>\n",
                            "      <td>2.086688</td>\n",
                            "    </tr>\n",
                            "    <tr>\n",
                            "      <th>75%</th>\n",
                            "      <td>5.223667</td>\n",
                            "    </tr>\n",
                            "    <tr>\n",
                            "      <th>max</th>\n",
                            "      <td>10.665097</td>\n",
                            "    </tr>\n",
                            "  </tbody>\n",
                            "</table>\n",
                            "</div>"
                        ],
                        "text/plain": [
                            "            Datos\n",
                            "count  100.000000\n",
                            "mean     3.251026\n",
                            "std      2.826919\n",
                            "min      0.030142\n",
                            "25%      1.015405\n",
                            "50%      2.086688\n",
                            "75%      5.223667\n",
                            "max     10.665097"
                        ]
                    },
                    "execution_count": 17,
                    "metadata": {},
                    "output_type": "execute_result"
                }
            ],
            "source": [
                "df2 = pd.DataFrame(chi, columns=['Datos'])\n",
                "df2.describe()"
            ]
        },
        {
            "cell_type": "markdown",
            "id": "46c70c3d",
            "metadata": {},
            "source": [
                "### Exercise 2\n",
                "\n",
                "Write a Python program to calculate the standard deviation of the following data:\n",
                "\n",
                "\n",
                "data = [4, 2, 5, 8, 6]\n"
            ]
        },
        {
            "cell_type": "markdown",
            "id": "8fa271a7",
            "metadata": {},
            "source": []
        },
        {
            "cell_type": "markdown",
            "id": "b35190c1",
            "metadata": {},
            "source": [
                "Escriba un programa Python para calcular la desviación estándar de los siguientes datos:"
            ]
        },
        {
            "cell_type": "code",
            "execution_count": 30,
            "id": "d590308e",
            "metadata": {},
            "outputs": [],
            "source": [
                "data = [4, 2, 5, 8, 6]\n",
                "d = pd.array(data)\n",
                "d\n",
                "\n",
                "mean = d.mean()\n",
                "mean\n",
                "\n"
            ]
        }
    ],
    "metadata": {
        "kernelspec": {
            "display_name": "Python 3",
            "language": "python",
            "name": "python3"
        },
        "language_info": {
            "codemirror_mode": {
                "name": "ipython",
                "version": 3
            },
            "file_extension": ".py",
            "mimetype": "text/x-python",
            "name": "python",
            "nbconvert_exporter": "python",
            "pygments_lexer": "ipython3",
            "version": "3.11.4"
        }
    },
    "nbformat": 4,
    "nbformat_minor": 5
}
