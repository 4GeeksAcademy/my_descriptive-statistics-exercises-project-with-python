{
    "cells": [
        {
            "cell_type": "markdown",
            "id": "ac622319",
            "metadata": {},
            "source": [
                "# Descriptive statistics problems"
            ]
        },
        {
            "cell_type": "markdown",
            "id": "5e0ab0d5",
            "metadata": {},
            "source": [
                "### Exercise 1\n",
                "\n",
                "We will use NumPy to obtain information to describe statistically.\n",
                "\n",
                "- Generate an array of 100 elements following a normal distribution.\n",
                "- Generate an array of 100 elements following a chi-square distribution with 3 degrees of freedom.\n",
                "- Calculate the main metrics and statistical measures that best describe the two vectors."
            ]
        },
        {
            "cell_type": "markdown",
            "metadata": {},
            "source": [
                "Genera una matriz de 100 elementos siguiendo una distribución normal"
            ]
        },
        {
            "cell_type": "code",
            "execution_count": 5,
            "id": "34720ab6",
            "metadata": {},
            "outputs": [
                {
                    "data": {
                        "text/plain": [
                            "array([ 2.31527571e-01, -2.21462522e+00,  2.36942987e-01,  1.52752508e-02,\n",
                            "        6.43157205e-01, -1.13956983e-01,  1.11038145e+00, -1.15064628e-01,\n",
                            "        6.68699785e-01,  6.63927904e-01,  4.28012064e-01,  5.98275890e-01,\n",
                            "        1.67455246e-03,  1.31402557e-01,  1.00492592e+00, -1.58231570e-02,\n",
                            "        1.36308563e+00,  6.52326376e-01,  3.60880302e-01,  1.23403779e+00,\n",
                            "       -2.32698838e-01, -1.33701180e-02, -5.60747281e-01,  7.42506851e-01,\n",
                            "       -4.87342346e-01,  2.87081914e-02,  1.30627866e+00,  5.40976709e-01,\n",
                            "        1.35570135e-01,  1.66634793e+00,  4.60731528e-01,  2.24241402e-01,\n",
                            "       -2.84664438e-01,  1.07466998e+00, -1.06960329e+00, -3.83466652e-01,\n",
                            "        3.88436391e-01, -1.24309899e+00,  2.08073655e+00,  1.95067176e+00,\n",
                            "        1.32317894e+00,  6.78258081e-01,  8.43561903e-02,  1.47090179e-01,\n",
                            "       -3.47710579e-01,  8.91514211e-01,  1.71268114e+00,  9.23438158e-01,\n",
                            "        3.88250447e-02,  2.18463423e-01, -9.94504532e-02,  1.10792740e+00,\n",
                            "       -2.49970879e-01,  2.07376754e-01,  4.48055112e-03,  1.19858113e+00,\n",
                            "       -7.38010848e-01,  2.60017268e-02,  3.16865165e-01, -1.30306931e-01,\n",
                            "        8.91613699e-02,  1.46969132e+00,  1.69236148e+00, -7.97134697e-01,\n",
                            "       -1.44655610e+00, -3.01737333e-01, -1.57688832e+00, -5.29942916e-01,\n",
                            "        5.95533979e-01, -9.64198865e-01,  5.69903875e-01, -1.62041457e+00,\n",
                            "       -4.25867669e-01,  7.01242335e-01, -1.64634167e-01,  3.52110825e-01,\n",
                            "       -8.27660449e-01,  1.78790053e+00, -2.35084131e-01, -2.49279739e+00,\n",
                            "       -3.94401856e-01,  6.35939579e-01,  2.66821685e-01, -7.39777329e-01,\n",
                            "       -9.68243148e-01,  7.67922450e-01,  6.61194445e-01, -6.16714098e-01,\n",
                            "       -1.79236833e+00, -3.77772797e-01,  7.85248507e-01,  5.79900701e-01,\n",
                            "        4.11966780e-01, -2.05174757e+00, -8.70258462e-01,  3.38517034e-01,\n",
                            "        1.65838011e-01,  1.56298105e+00, -5.06699640e-01,  2.94220851e+00])"
                        ]
                    },
                    "execution_count": 5,
                    "metadata": {},
                    "output_type": "execute_result"
                }
            ],
            "source": [
                "import numpy as np\n",
                "\n",
                "media = 0      \n",
                "desv_std = 1   \n",
                "tamaño = 100    \n",
                "\n",
                "normal_array = np.random.normal(media, desv_std, tamaño)\n",
                "\n",
                "normal_array"
            ]
        },
        {
            "cell_type": "markdown",
            "id": "46c70c3d",
            "metadata": {},
            "source": [
                "### Exercise 2\n",
                "\n",
                "Write a Python program to calculate the standard deviation of the following data:\n",
                "\n",
                "```py\n",
                "data = [4, 2, 5, 8, 6]\n",
                "```"
            ]
        },
        {
            "cell_type": "code",
            "execution_count": 2,
            "id": "d590308e",
            "metadata": {},
            "outputs": [],
            "source": [
                "# TODO"
            ]
        }
    ],
    "metadata": {
        "kernelspec": {
            "display_name": "Python 3",
            "language": "python",
            "name": "python3"
        },
        "language_info": {
            "codemirror_mode": {
                "name": "ipython",
                "version": 3
            },
            "file_extension": ".py",
            "mimetype": "text/x-python",
            "name": "python",
            "nbconvert_exporter": "python",
            "pygments_lexer": "ipython3",
            "version": "3.11.4"
        }
    },
    "nbformat": 4,
    "nbformat_minor": 5
}
