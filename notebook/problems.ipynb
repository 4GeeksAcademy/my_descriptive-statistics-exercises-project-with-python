{
    "cells": [
        {
            "cell_type": "markdown",
            "id": "ac622319",
            "metadata": {},
            "source": [
                "# Descriptive statistics problems"
            ]
        },
        {
            "cell_type": "markdown",
            "id": "5e0ab0d5",
            "metadata": {},
            "source": [
                "### Exercise 1\n",
                "\n",
                "We will use NumPy to obtain information to describe statistically.\n",
                "\n",
                "A - Generate an array of 100 elements following a normal distribution.\n",
                "B - Generate an array of 100 elements following a chi-square distribution with 3 degrees of freedom.\n",
                "C - Calculate the main metrics and statistical measures that best describe the two vectors."
            ]
        },
        {
            "cell_type": "markdown",
            "metadata": {},
            "source": [
                "A - Genera una matriz de 100 elementos siguiendo una distribución normal"
            ]
        },
        {
            "cell_type": "code",
            "execution_count": 1,
            "id": "34720ab6",
            "metadata": {},
            "outputs": [
                {
                    "data": {
                        "text/plain": [
                            "array([ 1.75133308,  0.13581135,  0.51769437, -0.07992018, -0.70898008,\n",
                            "        0.24669565,  0.98727497, -0.52155603,  1.15061606, -0.83570541,\n",
                            "       -0.73947897,  0.71588718,  0.3387367 , -0.59559689,  0.00366348,\n",
                            "       -0.7020165 , -1.69551382,  0.28737442,  0.04731636,  0.68733853,\n",
                            "       -0.77476209, -0.62596871, -1.24525878,  0.10580304,  1.72333517,\n",
                            "        0.32410828,  1.33116738, -0.81030539, -2.147326  , -1.4309825 ,\n",
                            "       -0.08186255, -0.26725261, -0.65042824, -0.14153896, -0.21580861,\n",
                            "       -0.36098768,  1.23193116,  0.98411575,  0.43626714,  0.34060224,\n",
                            "        0.29472942,  0.25587258,  0.96399621,  0.14384732, -0.2681887 ,\n",
                            "        0.19180176,  1.40443143, -0.44938389,  0.32168156, -0.39239687,\n",
                            "        0.9576883 , -0.39530493, -0.43411105,  0.875171  , -1.63351972,\n",
                            "       -0.2986611 , -1.1564994 ,  1.37727217,  0.14793695,  0.05341304,\n",
                            "        1.12908034,  0.16077954, -0.19589864,  0.84421174, -0.7776142 ,\n",
                            "       -0.52441092, -2.16995801,  0.43541256, -0.03911216, -0.550014  ,\n",
                            "        1.13566135, -0.9093006 , -0.05540902, -0.20114807, -1.67906752,\n",
                            "        0.42417434,  0.23979391,  0.90765579, -0.57446618, -0.8896622 ,\n",
                            "       -1.43823289,  0.85247553, -0.63697168,  0.27517553, -0.66103212,\n",
                            "       -0.33089673,  0.42612753, -0.01338089, -0.44100987,  1.49495429,\n",
                            "        0.11599543,  0.21507263, -1.06073046, -0.38888657, -0.69571996,\n",
                            "       -0.0623484 , -0.42159177,  0.36961164,  0.87674157, -0.40220709])"
                        ]
                    },
                    "execution_count": 1,
                    "metadata": {},
                    "output_type": "execute_result"
                }
            ],
            "source": [
                "import numpy as np\n",
                "\n",
                "media = 0      \n",
                "desv_std = 1   \n",
                "tamaño = 100    \n",
                "\n",
                "normal_array = np.random.normal(media, desv_std, tamaño)\n",
                "\n",
                "normal_array"
            ]
        },
        {
            "cell_type": "markdown",
            "id": "984df9e6",
            "metadata": {},
            "source": [
                "B - Genere una matriz de 100 elementos siguiendo una distribución chi-cuadrado con 3 grados de libertad"
            ]
        },
        {
            "cell_type": "code",
            "execution_count": 2,
            "id": "83b7d8e0",
            "metadata": {},
            "outputs": [
                {
                    "data": {
                        "text/plain": [
                            "array([ 7.00238909,  0.80471537,  2.9150481 ,  2.16462721,  1.94053232,\n",
                            "        4.26217359,  3.33089579,  0.87545744,  4.85756172,  6.62390418,\n",
                            "        4.62374329,  2.34414782,  4.01908161,  0.69028809,  2.59890438,\n",
                            "        6.79503433,  0.80125992,  2.79981111,  0.39593858,  2.45962027,\n",
                            "        4.38173751,  0.89076436,  1.30354084,  6.57744729,  0.2389207 ,\n",
                            "        3.07264352,  3.36685544,  7.38616445,  0.13014472,  1.9477653 ,\n",
                            "        4.95135662,  0.39445003,  5.65168374,  2.40266409,  2.7533506 ,\n",
                            "       16.30502428,  7.32608227,  2.69406628,  2.18487409,  2.16449635,\n",
                            "        3.85995628,  8.20234418,  0.77142961,  1.90383563,  1.21795651,\n",
                            "        9.11174688,  2.25123297,  2.16665559,  0.50267873,  3.32547182,\n",
                            "       11.67340197,  2.20387419,  5.52822437,  1.92297751,  6.12538783,\n",
                            "        1.44225597,  2.52420029,  4.15438924, 15.74702678,  1.58740912,\n",
                            "        8.92258641,  1.71983827,  1.56223235,  1.11155274,  4.09962849,\n",
                            "        0.17912941,  1.07571554,  0.89040626,  0.32525286,  2.76842391,\n",
                            "        7.02186314,  1.29064621,  0.33503652,  1.79558198,  6.23639504,\n",
                            "        5.81912578,  3.84936255,  5.74419948,  0.1290404 ,  6.91975166,\n",
                            "        0.10041285,  3.44881605,  2.50323409,  1.30927093,  2.4852865 ,\n",
                            "        1.88471018,  1.7535379 ,  0.81232491,  5.74222971,  2.29075175,\n",
                            "        1.37389892,  0.86090207,  4.98979561,  3.39989545,  1.33339358,\n",
                            "        0.27682912,  0.90684682,  3.00752896,  0.45560428,  0.44513632])"
                        ]
                    },
                    "execution_count": 2,
                    "metadata": {},
                    "output_type": "execute_result"
                }
            ],
            "source": [
                "chi =np.random.chisquare(3,100)\n",
                "chi\n",
                "\n",
                "\n",
                "#plt.figure(figsize=(8, 5))\n",
                "#plt.hist(chi, bins=20, color='blue', edgecolor='black', alpha=0.7)\n",
                "#plt.title('Distribución Chi-cuadrado con 3 grados de libertad')\n",
                "#plt.xlabel('Valor')\n",
                "#plt.ylabel('Frecuencia')\n",
                "#plt.grid(True)\n",
                "#plt.show()"
            ]
        },
        {
            "cell_type": "markdown",
            "id": "f42488ce",
            "metadata": {},
            "source": []
        },
        {
            "cell_type": "markdown",
            "id": "7486abf4",
            "metadata": {},
            "source": [
                "C - Calcule las principales métricas y medidas estadísticas que mejor describen los dos vectores."
            ]
        },
        {
            "cell_type": "code",
            "execution_count": 3,
            "id": "faf0a2d2",
            "metadata": {},
            "outputs": [
                {
                    "data": {
                        "text/html": [
                            "<div>\n",
                            "<style scoped>\n",
                            "    .dataframe tbody tr th:only-of-type {\n",
                            "        vertical-align: middle;\n",
                            "    }\n",
                            "\n",
                            "    .dataframe tbody tr th {\n",
                            "        vertical-align: top;\n",
                            "    }\n",
                            "\n",
                            "    .dataframe thead th {\n",
                            "        text-align: right;\n",
                            "    }\n",
                            "</style>\n",
                            "<table border=\"1\" class=\"dataframe\">\n",
                            "  <thead>\n",
                            "    <tr style=\"text-align: right;\">\n",
                            "      <th></th>\n",
                            "      <th>Datos</th>\n",
                            "    </tr>\n",
                            "  </thead>\n",
                            "  <tbody>\n",
                            "    <tr>\n",
                            "      <th>count</th>\n",
                            "      <td>100.000000</td>\n",
                            "    </tr>\n",
                            "    <tr>\n",
                            "      <th>mean</th>\n",
                            "      <td>-0.045405</td>\n",
                            "    </tr>\n",
                            "    <tr>\n",
                            "      <th>std</th>\n",
                            "      <td>0.823476</td>\n",
                            "    </tr>\n",
                            "    <tr>\n",
                            "      <th>min</th>\n",
                            "      <td>-2.169958</td>\n",
                            "    </tr>\n",
                            "    <tr>\n",
                            "      <th>25%</th>\n",
                            "      <td>-0.579749</td>\n",
                            "    </tr>\n",
                            "    <tr>\n",
                            "      <th>50%</th>\n",
                            "      <td>-0.047261</td>\n",
                            "    </tr>\n",
                            "    <tr>\n",
                            "      <th>75%</th>\n",
                            "      <td>0.424663</td>\n",
                            "    </tr>\n",
                            "    <tr>\n",
                            "      <th>max</th>\n",
                            "      <td>1.751333</td>\n",
                            "    </tr>\n",
                            "  </tbody>\n",
                            "</table>\n",
                            "</div>"
                        ],
                        "text/plain": [
                            "            Datos\n",
                            "count  100.000000\n",
                            "mean    -0.045405\n",
                            "std      0.823476\n",
                            "min     -2.169958\n",
                            "25%     -0.579749\n",
                            "50%     -0.047261\n",
                            "75%      0.424663\n",
                            "max      1.751333"
                        ]
                    },
                    "execution_count": 3,
                    "metadata": {},
                    "output_type": "execute_result"
                }
            ],
            "source": [
                "import statistics as stats\n",
                "import pandas as pd\n",
                "\n",
                "df = pd.DataFrame(normal_array, columns=['Datos'])\n",
                "df.describe()\n",
                "\n"
            ]
        },
        {
            "cell_type": "code",
            "execution_count": 4,
            "id": "5905e1b6",
            "metadata": {},
            "outputs": [
                {
                    "data": {
                        "text/html": [
                            "<div>\n",
                            "<style scoped>\n",
                            "    .dataframe tbody tr th:only-of-type {\n",
                            "        vertical-align: middle;\n",
                            "    }\n",
                            "\n",
                            "    .dataframe tbody tr th {\n",
                            "        vertical-align: top;\n",
                            "    }\n",
                            "\n",
                            "    .dataframe thead th {\n",
                            "        text-align: right;\n",
                            "    }\n",
                            "</style>\n",
                            "<table border=\"1\" class=\"dataframe\">\n",
                            "  <thead>\n",
                            "    <tr style=\"text-align: right;\">\n",
                            "      <th></th>\n",
                            "      <th>Datos</th>\n",
                            "    </tr>\n",
                            "  </thead>\n",
                            "  <tbody>\n",
                            "    <tr>\n",
                            "      <th>count</th>\n",
                            "      <td>100.000000</td>\n",
                            "    </tr>\n",
                            "    <tr>\n",
                            "      <th>mean</th>\n",
                            "      <td>3.258278</td>\n",
                            "    </tr>\n",
                            "    <tr>\n",
                            "      <th>std</th>\n",
                            "      <td>3.020839</td>\n",
                            "    </tr>\n",
                            "    <tr>\n",
                            "      <th>min</th>\n",
                            "      <td>0.100413</td>\n",
                            "    </tr>\n",
                            "    <tr>\n",
                            "      <th>25%</th>\n",
                            "      <td>1.191356</td>\n",
                            "    </tr>\n",
                            "    <tr>\n",
                            "      <th>50%</th>\n",
                            "      <td>2.373406</td>\n",
                            "    </tr>\n",
                            "    <tr>\n",
                            "      <th>75%</th>\n",
                            "      <td>4.442239</td>\n",
                            "    </tr>\n",
                            "    <tr>\n",
                            "      <th>max</th>\n",
                            "      <td>16.305024</td>\n",
                            "    </tr>\n",
                            "  </tbody>\n",
                            "</table>\n",
                            "</div>"
                        ],
                        "text/plain": [
                            "            Datos\n",
                            "count  100.000000\n",
                            "mean     3.258278\n",
                            "std      3.020839\n",
                            "min      0.100413\n",
                            "25%      1.191356\n",
                            "50%      2.373406\n",
                            "75%      4.442239\n",
                            "max     16.305024"
                        ]
                    },
                    "execution_count": 4,
                    "metadata": {},
                    "output_type": "execute_result"
                }
            ],
            "source": [
                "df2 = pd.DataFrame(chi, columns=['Datos'])\n",
                "df2.describe()"
            ]
        },
        {
            "cell_type": "markdown",
            "id": "46c70c3d",
            "metadata": {},
            "source": [
                "### Exercise 2\n",
                "\n",
                "Write a Python program to calculate the standard deviation of the following data:\n",
                "\n",
                "\n",
                "data = [4, 2, 5, 8, 6]\n"
            ]
        },
        {
            "cell_type": "markdown",
            "id": "8fa271a7",
            "metadata": {},
            "source": []
        },
        {
            "cell_type": "markdown",
            "id": "b35190c1",
            "metadata": {},
            "source": [
                "Escriba un programa Python para calcular la desviación estándar de los siguientes datos:"
            ]
        },
        {
            "cell_type": "code",
            "execution_count": 5,
            "id": "2a26f2e0",
            "metadata": {},
            "outputs": [
                {
                    "name": "stdout",
                    "output_type": "stream",
                    "text": [
                        "La desviación estándar es: 2.23606797749979\n"
                    ]
                }
            ],
            "source": [
                "data = [4, 2, 5, 8, 6]\n",
                "\n",
                "def calcular_desviacion_estandar(data):\n",
                "    n = len(data)\n",
                "    if n < 2:\n",
                "        raise ValueError(\"La lista debe contener al menos dos elementos.\")\n",
                "    \n",
                "    media = sum(data) / n\n",
                "    varianza = sum((xi - media) ** 2 for xi in data) / (n - 1)\n",
                "    desviacion_estandar = varianza ** 0.5\n",
                "    \n",
                "    return desviacion_estandar\n",
                "\n",
                "# Cálculo\n",
                "desviacion = calcular_desviacion_estandar(data)\n",
                "print(\"La desviación estándar es:\", desviacion)\n"
            ]
        }
    ],
    "metadata": {
        "kernelspec": {
            "display_name": "Python 3",
            "language": "python",
            "name": "python3"
        },
        "language_info": {
            "codemirror_mode": {
                "name": "ipython",
                "version": 3
            },
            "file_extension": ".py",
            "mimetype": "text/x-python",
            "name": "python",
            "nbconvert_exporter": "python",
            "pygments_lexer": "ipython3",
            "version": "3.11.4"
        }
    },
    "nbformat": 4,
    "nbformat_minor": 5
}
