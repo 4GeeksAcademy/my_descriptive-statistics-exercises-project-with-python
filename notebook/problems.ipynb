{
    "cells": [
        {
            "cell_type": "markdown",
            "id": "ac622319",
            "metadata": {},
            "source": [
                "# Descriptive statistics problems"
            ]
        },
        {
            "cell_type": "markdown",
            "id": "5e0ab0d5",
            "metadata": {},
            "source": [
                "### Exercise 1\n",
                "\n",
                "We will use NumPy to obtain information to describe statistically.\n",
                "\n",
                "- Generate an array of 100 elements following a normal distribution.\n",
                "- Generate an array of 100 elements following a chi-square distribution with 3 degrees of freedom.\n",
                "- Calculate the main metrics and statistical measures that best describe the two vectors."
            ]
        },
        {
            "cell_type": "markdown",
            "metadata": {},
            "source": [
                "Genera una matriz de 100 elementos siguiendo una distribución normal"
            ]
        },
        {
            "cell_type": "code",
            "execution_count": 1,
            "id": "34720ab6",
            "metadata": {},
            "outputs": [
                {
                    "data": {
                        "text/plain": [
                            "array([ 1.71450558e+00,  3.37958901e-01, -2.91711047e-01,  3.37544601e-01,\n",
                            "       -3.73550527e-01,  1.02988508e+00,  1.07767187e+00, -6.35399360e-01,\n",
                            "       -8.20713699e-01, -3.53533784e-02,  3.88983778e-01,  1.62737437e+00,\n",
                            "       -1.19974716e+00,  1.21513358e-03,  2.41225332e-01, -1.00748303e+00,\n",
                            "        7.60348553e-01,  5.43554746e-02,  1.37704339e+00,  7.82250509e-01,\n",
                            "       -2.54406529e-01, -1.64734032e-01,  9.68657368e-01,  6.51912955e-02,\n",
                            "       -2.35990533e-01, -1.25289677e+00, -3.18767701e-02,  1.23208307e+00,\n",
                            "       -5.31791606e-01, -9.25620456e-01, -1.08719779e+00,  1.58898394e+00,\n",
                            "       -1.04527441e-01, -3.92700053e-01,  1.21631429e+00,  4.46427441e-01,\n",
                            "       -1.62610715e-01,  1.56759297e+00,  8.04832008e-01, -6.80766225e-01,\n",
                            "        7.35370987e-02, -2.77156454e-01, -2.58554286e+00,  1.24334834e-01,\n",
                            "       -4.10754941e-02,  1.19677314e-01,  5.15504269e-01, -3.83615479e-01,\n",
                            "       -9.57923487e-01, -3.28392378e-01, -1.27462505e+00, -1.26049025e-01,\n",
                            "        6.90744640e-01, -1.09638710e+00, -3.68027794e-01, -3.84649032e-02,\n",
                            "       -9.22305344e-01,  1.65122654e-01,  5.81555135e-01, -1.75671284e-01,\n",
                            "       -2.02723462e-01, -2.19821083e-01,  2.11723933e-01,  1.45679387e+00,\n",
                            "       -8.91786207e-01, -6.88527753e-01,  1.10830011e-01,  1.24096643e+00,\n",
                            "       -1.72355679e+00, -1.81120086e+00,  1.87036516e+00,  3.92823321e-01,\n",
                            "       -9.64065540e-01,  8.59276470e-02,  2.53120928e-01, -2.91329855e-01,\n",
                            "        7.01336548e-01,  1.22646838e+00, -3.99199627e-01,  1.14000920e+00,\n",
                            "        1.68464516e+00,  7.22024938e-01, -6.35079500e-01,  1.87736639e+00,\n",
                            "        1.33759854e-01, -3.20095296e-01,  1.51941249e+00, -8.35681410e-01,\n",
                            "       -9.72964639e-01, -1.24129545e+00,  1.21909711e-01, -1.59196359e+00,\n",
                            "        2.13482811e-01,  4.79802667e-01, -7.74987245e-01, -1.55481704e+00,\n",
                            "        1.12493841e-01, -1.33696948e+00,  1.86102130e-01,  5.63057482e-02])"
                        ]
                    },
                    "execution_count": 1,
                    "metadata": {},
                    "output_type": "execute_result"
                }
            ],
            "source": [
                "import numpy as np\n",
                "\n",
                "media = 0      \n",
                "desv_std = 1   \n",
                "tamaño = 100    \n",
                "\n",
                "normal_array = np.random.normal(media, desv_std, tamaño)\n",
                "\n",
                "normal_array"
            ]
        },
        {
            "cell_type": "markdown",
            "id": "984df9e6",
            "metadata": {},
            "source": [
                "Genere una matriz de 100 elementos siguiendo una distribución chi-cuadrado con 3 grados de libertad"
            ]
        },
        {
            "cell_type": "code",
            "execution_count": 5,
            "id": "3daa69f7",
            "metadata": {},
            "outputs": [
                {
                    "data": {
                        "text/html": [
                            "<div>\n",
                            "<style scoped>\n",
                            "    .dataframe tbody tr th:only-of-type {\n",
                            "        vertical-align: middle;\n",
                            "    }\n",
                            "\n",
                            "    .dataframe tbody tr th {\n",
                            "        vertical-align: top;\n",
                            "    }\n",
                            "\n",
                            "    .dataframe thead th {\n",
                            "        text-align: right;\n",
                            "    }\n",
                            "</style>\n",
                            "<table border=\"1\" class=\"dataframe\">\n",
                            "  <thead>\n",
                            "    <tr style=\"text-align: right;\">\n",
                            "      <th></th>\n",
                            "      <th>Chi-Squared</th>\n",
                            "    </tr>\n",
                            "  </thead>\n",
                            "  <tbody>\n",
                            "    <tr>\n",
                            "      <th>0</th>\n",
                            "      <td>2.163184</td>\n",
                            "    </tr>\n",
                            "    <tr>\n",
                            "      <th>1</th>\n",
                            "      <td>2.226299</td>\n",
                            "    </tr>\n",
                            "    <tr>\n",
                            "      <th>2</th>\n",
                            "      <td>6.877444</td>\n",
                            "    </tr>\n",
                            "    <tr>\n",
                            "      <th>3</th>\n",
                            "      <td>1.665345</td>\n",
                            "    </tr>\n",
                            "    <tr>\n",
                            "      <th>4</th>\n",
                            "      <td>0.270607</td>\n",
                            "    </tr>\n",
                            "    <tr>\n",
                            "      <th>...</th>\n",
                            "      <td>...</td>\n",
                            "    </tr>\n",
                            "    <tr>\n",
                            "      <th>95</th>\n",
                            "      <td>1.138937</td>\n",
                            "    </tr>\n",
                            "    <tr>\n",
                            "      <th>96</th>\n",
                            "      <td>2.425054</td>\n",
                            "    </tr>\n",
                            "    <tr>\n",
                            "      <th>97</th>\n",
                            "      <td>0.226705</td>\n",
                            "    </tr>\n",
                            "    <tr>\n",
                            "      <th>98</th>\n",
                            "      <td>0.474027</td>\n",
                            "    </tr>\n",
                            "    <tr>\n",
                            "      <th>99</th>\n",
                            "      <td>2.693997</td>\n",
                            "    </tr>\n",
                            "  </tbody>\n",
                            "</table>\n",
                            "<p>100 rows × 1 columns</p>\n",
                            "</div>"
                        ],
                        "text/plain": [
                            "    Chi-Squared\n",
                            "0      2.163184\n",
                            "1      2.226299\n",
                            "2      6.877444\n",
                            "3      1.665345\n",
                            "4      0.270607\n",
                            "..          ...\n",
                            "95     1.138937\n",
                            "96     2.425054\n",
                            "97     0.226705\n",
                            "98     0.474027\n",
                            "99     2.693997\n",
                            "\n",
                            "[100 rows x 1 columns]"
                        ]
                    },
                    "execution_count": 5,
                    "metadata": {},
                    "output_type": "execute_result"
                }
            ],
            "source": [
                "import pandas as pd\n",
                "\n",
                "chi_squared_matrix = np.random.chisquare(df=3, size=100)\n",
                "\n",
                "chi_squared_df = pd.DataFrame(chi_squared_matrix, columns=['Chi-Squared'])\n",
                "\n",
                "chi_squared_df\n"
            ]
        },
        {
            "cell_type": "markdown",
            "id": "7486abf4",
            "metadata": {},
            "source": [
                "Calcule las principales métricas y medidas estadísticas que mejor describen los dos vectores."
            ]
        },
        {
            "cell_type": "code",
            "execution_count": null,
            "id": "953918b8",
            "metadata": {},
            "outputs": [],
            "source": [
                "import numpy as np\n",
                "import pandas as pd\n",
                "\n",
                "chi_squared_matrix = np.random.chisquare(df=3, size=100)\n",
                "\n",
                "chi_squared_df = pd.DataFrame(chi_squared_matrix, columns=['Chi-Squared'])\n",
                "\n",
                "statistics = chi_squared_df.describe()\n",
                "\n",
                "statistics.loc['variance'] = chi_squared_df.var()\n",
                "statistics.loc['median'] = chi_squared_df.median()\n",
                "statistics.loc['skewness'] = chi_squared_df.skew()\n",
                "statistics.loc['kurtosis'] = chi_squared_df.kurt()\n",
                "\n",
                "print(statistics)\n"
            ]
        },
        {
            "cell_type": "markdown",
            "id": "46c70c3d",
            "metadata": {},
            "source": [
                "### Exercise 2\n",
                "\n",
                "Write a Python program to calculate the standard deviation of the following data:\n",
                "\n",
                "```py\n",
                "data = [4, 2, 5, 8, 6]\n",
                "```"
            ]
        },
        {
            "cell_type": "code",
            "execution_count": 2,
            "id": "d590308e",
            "metadata": {},
            "outputs": [],
            "source": [
                "# TODO"
            ]
        }
    ],
    "metadata": {
        "kernelspec": {
            "display_name": "Python 3",
            "language": "python",
            "name": "python3"
        },
        "language_info": {
            "codemirror_mode": {
                "name": "ipython",
                "version": 3
            },
            "file_extension": ".py",
            "mimetype": "text/x-python",
            "name": "python",
            "nbconvert_exporter": "python",
            "pygments_lexer": "ipython3",
            "version": "3.11.4"
        }
    },
    "nbformat": 4,
    "nbformat_minor": 5
}
